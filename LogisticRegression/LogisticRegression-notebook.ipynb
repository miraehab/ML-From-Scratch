{
  "cells": [
    {
      "cell_type": "code",
      "execution_count": null,
      "metadata": {
        "id": "oAvuSc_k1ICm"
      },
      "outputs": [],
      "source": [
        "import numpy as np\n",
        "import pandas as pd\n",
        "import seaborn as sns\n",
        "import matplotlib.pyplot as plt\n",
        "from scipy.io import loadmat\n",
        "from sklearn.datasets import fetch_openml"
      ]
    },
    {
      "cell_type": "code",
      "execution_count": null,
      "metadata": {
        "colab": {
          "base_uri": "https://localhost:8080/"
        },
        "id": "__yOqtNH1ICp",
        "outputId": "4431e495-b2d0-4b29-9472-8ceddc232f74"
      },
      "outputs": [
        {
          "name": "stderr",
          "output_type": "stream",
          "text": [
            "/usr/local/lib/python3.9/dist-packages/sklearn/datasets/_openml.py:968: FutureWarning: The default value of `parser` will change from `'liac-arff'` to `'auto'` in 1.4. You can set `parser='auto'` to silence this warning. Therefore, an `ImportError` will be raised from 1.4 if the dataset is dense and pandas is not installed. Note that the pandas parser may return different data types. See the Notes Section in fetch_openml's API doc for details.\n",
            "  warn(\n"
          ]
        }
      ],
      "source": [
        "mnist = fetch_openml('mnist_784', version=1)"
      ]
    },
    {
      "cell_type": "code",
      "execution_count": null,
      "metadata": {
        "id": "6WlMFheP1ICp"
      },
      "outputs": [],
      "source": [
        "# Extract the features (pixel values) and labels from the dataset\n",
        "X = mnist.data.values.astype('float32')\n",
        "y = mnist.target.values.astype('int64')"
      ]
    },
    {
      "cell_type": "markdown",
      "metadata": {
        "id": "D5jmlEMa1ICq"
      },
      "source": [
        "<h3>Subset the data to use only class 0 and class1</h3>"
      ]
    },
    {
      "cell_type": "code",
      "execution_count": null,
      "metadata": {
        "id": "d0-pHxNc1ICr"
      },
      "outputs": [],
      "source": [
        "filter = np.where((y == 0) | (y == 1))\n",
        "X = X[filter]\n",
        "y = y[filter]"
      ]
    },
    {
      "cell_type": "code",
      "execution_count": null,
      "metadata": {
        "colab": {
          "base_uri": "https://localhost:8080/"
        },
        "id": "bBJ43luy1ICr",
        "outputId": "3c423d06-66e9-455e-f2d3-f9961324d735"
      },
      "outputs": [
        {
          "data": {
            "text/plain": [
              "array([[0., 0., 0., ..., 0., 0., 0.],\n",
              "       [0., 0., 0., ..., 0., 0., 0.],\n",
              "       [0., 0., 0., ..., 0., 0., 0.],\n",
              "       ...,\n",
              "       [0., 0., 0., ..., 0., 0., 0.],\n",
              "       [0., 0., 0., ..., 0., 0., 0.],\n",
              "       [0., 0., 0., ..., 0., 0., 0.]], dtype=float32)"
            ]
          },
          "execution_count": 6,
          "metadata": {},
          "output_type": "execute_result"
        }
      ],
      "source": [
        "X[0:10]"
      ]
    },
    {
      "cell_type": "markdown",
      "metadata": {
        "id": "ztL-PmMg1ICs"
      },
      "source": [
        "<h3>Standardize the data</h3>"
      ]
    },
    {
      "cell_type": "code",
      "execution_count": null,
      "metadata": {
        "id": "8e9N935S1ICs"
      },
      "outputs": [],
      "source": [
        "# Define a small epsilon value to add to the standard deviation to avoid division by zero\n",
        "eps = 1e-8\n",
        "\n",
        "# Calculate the standard deviation of each feature and replace any zero values with eps\n",
        "std_dev = np.std(X, axis=0)\n",
        "std_dev[std_dev == 0] = eps\n",
        "\n",
        "# Normalize the data by subtracting the mean and dividing by the standard deviation\n",
        "X = (X - np.mean(X, axis=0)) / std_dev"
      ]
    },
    {
      "cell_type": "markdown",
      "metadata": {
        "id": "dwEyCHk71ICs"
      },
      "source": [
        "<h3>Accuracy function:</h3>"
      ]
    },
    {
      "cell_type": "code",
      "execution_count": null,
      "metadata": {
        "id": "GGaji4481ICs"
      },
      "outputs": [],
      "source": [
        "def accuracy(y_pred, y):\n",
        "    return np.sum((y_pred == y))/len(y)"
      ]
    },
    {
      "cell_type": "markdown",
      "metadata": {
        "id": "Vsqvrilj1ICt"
      },
      "source": [
        "<h3>Implemented the Logistic Regression Classifier</h3>"
      ]
    },
    {
      "cell_type": "code",
      "execution_count": null,
      "metadata": {
        "id": "31CqdAte1ICt"
      },
      "outputs": [],
      "source": [
        "from LogisticRegression import LogisticRegression"
      ]
    },
    {
      "cell_type": "markdown",
      "metadata": {
        "id": "iqLBFEOl1ICu"
      },
      "source": [
        "<h3>Using Cross Validation to split the data:</h3>"
      ]
    },
    {
      "cell_type": "code",
      "execution_count": null,
      "metadata": {
        "id": "H79OSqWs1ICv"
      },
      "outputs": [],
      "source": [
        "def split_array(arr, k):\n",
        "    n = len(arr)\n",
        "    flod_size = n // k\n",
        "    remainder = n % k\n",
        "    result = []\n",
        "    start = 0\n",
        "    for i in range(k):\n",
        "        end = start + flod_size\n",
        "        if i < remainder:\n",
        "            end += 1\n",
        "        result.append(np.array(arr[start:end]))\n",
        "        start = end\n",
        "    return np.array(result)"
      ]
    },
    {
      "cell_type": "code",
      "execution_count": null,
      "metadata": {
        "id": "GRGD8vob1ICw"
      },
      "outputs": [],
      "source": [
        "from sklearn.utils import shuffle\n",
        "\n",
        "all_accuracies = []\n",
        "\n",
        "def cross_validation(X, y, k, learning_rate = 0.01):\n",
        "    # Shuffle data\n",
        "    X, y = shuffle(X, y)\n",
        "    \n",
        "    # Split data into k folds\n",
        "    X = split_array(X, k)\n",
        "    y = split_array(y, k)\n",
        "    \n",
        "    # Train and test model on each fold\n",
        "    for i in range(k):\n",
        "        # Get test fold\n",
        "        X_val = X[i]\n",
        "        y_val = y[i]\n",
        "        \n",
        "        # Get training folds\n",
        "        X_train = np.concatenate([X[j] for j in range(k) if j != i])\n",
        "        y_train = np.concatenate([y[j] for j in range(k) if j != i])\n",
        "\n",
        "        model = LogisticRegression(learning_rate=learning_rate)\n",
        "        \n",
        "        # Train model on training folds\n",
        "        model.fit(X_train, y_train)\n",
        "        \n",
        "        # Test model on test fold\n",
        "        y_pred = model.predict(X_val)\n",
        "        acc = accuracy(y_pred, y_val)\n",
        "        \n",
        "        all_accuracies.append(acc)\n",
        "        print(f\"Fold {i+1}: {acc}\")\n",
        "\n",
        "    print(\"Average Accuracy: \", np.mean(all_accuracies))\n",
        "    return np.mean(all_accuracies)"
      ]
    },
    {
      "cell_type": "code",
      "execution_count": null,
      "metadata": {
        "colab": {
          "base_uri": "https://localhost:8080/"
        },
        "id": "9O-aOUnT1ICx",
        "outputId": "9df980df-86d8-4bfa-d459-f039139cc047"
      },
      "outputs": [
        {
          "name": "stdout",
          "output_type": "stream",
          "text": [
            "Fold 1: 0.9979702300405954\n",
            "Fold 2: 0.9986468200270636\n",
            "Fold 3: 0.9986468200270636\n",
            "Fold 4: 0.9979702300405954\n",
            "Fold 5: 1.0\n",
            "Fold 6: 0.9972936400541272\n",
            "Fold 7: 0.9986468200270636\n",
            "Fold 8: 0.9972936400541272\n",
            "Fold 9: 1.0\n",
            "Fold 10: 0.9986468200270636\n",
            "Average Accuracy:  0.99851150202977\n"
          ]
        },
        {
          "data": {
            "text/plain": [
              "0.99851150202977"
            ]
          },
          "execution_count": 13,
          "metadata": {},
          "output_type": "execute_result"
        }
      ],
      "source": [
        "#10-flod cross validation\n",
        "cross_validation(X, y, 10)"
      ]
    },
    {
      "cell_type": "markdown",
      "metadata": {
        "id": "05UEPrHa1ICx"
      },
      "source": [
        "<h3>Report difference accuracy for the different learning rate</h3>"
      ]
    },
    {
      "cell_type": "code",
      "execution_count": null,
      "metadata": {
        "colab": {
          "background_save": true,
          "base_uri": "https://localhost:8080/"
        },
        "id": "a9r7Lixw1ICy",
        "outputId": "6996f36a-3929-47b5-fe8d-e4249e1b06b4"
      },
      "outputs": [
        {
          "name": "stdout",
          "output_type": "stream",
          "text": [
            "Fold 1: 0.9986468200270636\n",
            "Fold 2: 0.9959404600811907\n",
            "Fold 3: 1.0\n",
            "Fold 4: 1.0\n",
            "Fold 5: 1.0\n",
            "Fold 6: 0.9993234100135318\n",
            "Fold 7: 0.9993234100135318\n",
            "Fold 8: 0.9972936400541272\n",
            "Fold 9: 0.9986468200270636\n",
            "Fold 10: 1.0\n",
            "Average Accuracy:  0.9987144790257103\n",
            "Fold 1: 0.9986468200270636\n",
            "Fold 2: 0.9986468200270636\n",
            "Fold 3: 0.9972936400541272\n",
            "Fold 4: 0.9979702300405954\n",
            "Fold 5: 1.0\n",
            "Fold 6: 0.9972936400541272\n",
            "Fold 7: 0.9972936400541272\n",
            "Fold 8: 1.0\n",
            "Fold 9: 0.9979702300405954\n",
            "Fold 10: 1.0\n",
            "Average Accuracy:  0.9986468200270637\n",
            "Fold 1: 0.9986468200270636\n",
            "Fold 2: 0.9972936400541272\n",
            "Fold 3: 0.996617050067659\n",
            "Fold 4: 0.9993234100135318\n",
            "Fold 5: 0.9952638700947226\n",
            "Fold 6: 0.996617050067659\n",
            "Fold 7: 0.9959404600811907\n",
            "Fold 8: 0.9952638700947226\n",
            "Fold 9: 0.9945872801082544\n",
            "Fold 10: 0.9972936400541272\n",
            "Average Accuracy:  0.9981562922868742\n",
            "Fold 1: 0.996617050067659\n",
            "Fold 2: 0.9979702300405954\n",
            "Fold 3: 0.9939106901217862\n",
            "Fold 4: 0.993234100135318\n",
            "Fold 5: 0.9945872801082544\n",
            "Fold 6: 0.993234100135318\n",
            "Fold 7: 0.993234100135318\n",
            "Fold 8: 0.9959404600811907\n",
            "Fold 9: 0.993234100135318\n",
            "Fold 10: 0.9952638700947226\n",
            "Average Accuracy:  0.997469553450609\n",
            "Fold 1: 0.9912043301759134\n",
            "Fold 2: 0.9918809201623816\n",
            "Fold 3: 0.996617050067659\n",
            "Fold 4: 0.9925575101488497\n",
            "Fold 5: 0.9952638700947226\n",
            "Fold 6: 0.9952638700947226\n",
            "Fold 7: 0.993234100135318\n",
            "Fold 8: 0.9891745602165088\n",
            "Fold 9: 0.9952638700947226\n",
            "Fold 10: 0.9939106901217862\n",
            "Average Accuracy:  0.9967974740640506\n",
            "Fold 1: 0.9912043301759134\n",
            "Fold 2: 0.9945872801082544\n",
            "Fold 3: 0.9905277401894452\n",
            "Fold 4: 0.9939106901217862\n",
            "Fold 5: 0.9959404600811907\n",
            "Fold 6: 0.9959404600811907\n",
            "Fold 7: 0.9918809201623816\n",
            "Fold 8: 0.9918809201623816\n",
            "Fold 9: 0.993234100135318\n",
            "Fold 10: 0.9952638700947226\n",
            "Average Accuracy:  0.9963174173593661\n",
            "Fold 1: 0.9939106901217862\n",
            "Fold 2: 0.993234100135318\n",
            "Fold 3: 0.9918809201623816\n",
            "Fold 4: 0.996617050067659\n",
            "Fold 5: 0.9939106901217862\n",
            "Fold 6: 0.989851150202977\n",
            "Fold 7: 0.9925575101488497\n",
            "Fold 8: 0.9939106901217862\n",
            "Fold 9: 0.996617050067659\n",
            "Fold 10: 0.9918809201623816\n",
            "Average Accuracy:  0.9959573748308526\n",
            "Fold 1: 0.9939106901217862\n",
            "Fold 2: 0.9912043301759134\n",
            "Fold 3: 0.9918809201623816\n",
            "Fold 4: 0.9945872801082544\n",
            "Fold 5: 0.993234100135318\n",
            "Fold 6: 0.9925575101488497\n",
            "Fold 7: 0.9945872801082544\n",
            "Fold 8: 0.993234100135318\n",
            "Fold 9: 0.9918809201623816\n",
            "Fold 10: 0.996617050067659\n",
            "Average Accuracy:  0.9956698240866035\n",
            "Fold 1: 0.9912043301759134\n",
            "Fold 2: 0.9925575101488497\n",
            "Fold 3: 0.993234100135318\n",
            "Fold 4: 0.996617050067659\n",
            "Fold 5: 0.993234100135318\n",
            "Fold 6: 0.9939106901217862\n",
            "Fold 7: 0.989851150202977\n",
            "Fold 8: 0.9939106901217862\n",
            "Fold 9: 0.993234100135318\n",
            "Fold 10: 0.9952638700947226\n",
            "Average Accuracy:  0.9954330175913397\n",
            "Fold 1: 0.993234100135318\n",
            "Fold 2: 0.996617050067659\n",
            "Fold 3: 0.9905277401894452\n",
            "Fold 4: 0.9945872801082544\n",
            "Fold 5: 0.9925575101488497\n",
            "Fold 6: 0.9912043301759134\n",
            "Fold 7: 0.9939106901217862\n",
            "Fold 8: 0.9952638700947226\n",
            "Fold 9: 0.9952638700947226\n",
            "Fold 10: 0.9905277401894452\n",
            "Average Accuracy:  0.9952454176405462\n",
            "Fold 1: 0.9918809201623816\n",
            "Fold 2: 0.9939106901217862\n",
            "Fold 3: 0.996617050067659\n",
            "Fold 4: 0.9945872801082544\n",
            "Fold 5: 0.9918809201623816\n",
            "Fold 6: 0.9925575101488497\n",
            "Fold 7: 0.989851150202977\n",
            "Fold 8: 0.9972936400541272\n",
            "Fold 9: 0.9905277401894452\n",
            "Fold 10: 0.9939106901217862\n",
            "Average Accuracy:  0.9950834460983311\n"
          ]
        }
      ],
      "source": [
        "learning_rates = [0.1, 0.01, 0.001, 0.0001, 0.00001, 0.000001, 0.0000001, 0.00000001, 0.000000001, 0.0000000001, 0.00000000001]\n",
        "dic_results = {}\n",
        "\n",
        "for i in range(0, len(learning_rates)):\n",
        "    acc = cross_validation(X, y, 10, learning_rates[i])\n",
        "    dic_results[learning_rates[i]] = acc"
      ]
    },
    {
      "cell_type": "code",
      "execution_count": null,
      "metadata": {
        "colab": {
          "background_save": true
        },
        "id": "uDBDZ-2F1ICy",
        "outputId": "de47ec00-9527-4f63-bdb6-4a44db6ad0fd"
      },
      "outputs": [
        {
          "data": {
            "text/plain": [
              "{0.1: 0.9987144790257103,\n",
              " 0.01: 0.9986468200270637,\n",
              " 0.001: 0.9981562922868742,\n",
              " 0.0001: 0.997469553450609,\n",
              " 1e-05: 0.9967974740640506,\n",
              " 1e-06: 0.9963174173593661,\n",
              " 1e-07: 0.9959573748308526,\n",
              " 1e-08: 0.9956698240866035,\n",
              " 1e-09: 0.9954330175913397,\n",
              " 1e-10: 0.9952454176405462,\n",
              " 1e-11: 0.9950834460983311}"
            ]
          },
          "execution_count": 15,
          "metadata": {},
          "output_type": "execute_result"
        }
      ],
      "source": [
        "dic_results"
      ]
    },
    {
      "cell_type": "code",
      "execution_count": null,
      "metadata": {
        "colab": {
          "background_save": true
        },
        "id": "346xbWZ01ICz",
        "outputId": "c21958a3-fc05-48f2-c8e9-9fde1007bf74"
      },
      "outputs": [
        {
          "data": {
            "image/png": "[encoded data removed]",
            "text/plain": [
              "<Figure size 640x480 with 1 Axes>"
            ]
          },
          "metadata": {},
          "output_type": "display_data"
        }
      ],
      "source": [
        "plt.bar(range(len(dic_results)), list(dic_results.values()), tick_label=list(dic_results.keys()))\n",
        "plt.show()"
      ]
    },
    {
      "cell_type": "code",
      "execution_count": null,
      "metadata": {
        "colab": {
          "background_save": true
        },
        "id": "utW7lSu11ICz",
        "outputId": "6e22061f-dc37-443a-caa0-ed947623c2b6"
      },
      "outputs": [
        {
          "data": {
            "image/png": "[encoded data removed]",
            "text/plain": [
              "<Figure size 640x480 with 1 Axes>"
            ]
          },
          "metadata": {},
          "output_type": "display_data"
        }
      ],
      "source": [
        "# Plot the validation accuracies vs. the learning rates\n",
        "plt.plot(list(dic_results.keys()), list(dic_results.values()), 'o-')\n",
        "plt.xlabel('Learning rate')\n",
        "plt.ylabel('Validation accuracy')\n",
        "plt.title('Validation accuracy vs. learning rate')\n",
        "plt.show()"
      ]
    }
  ],
  "metadata": {
    "colab": {
      "provenance": []
    },
    "kernelspec": {
      "display_name": "base",
      "language": "python",
      "name": "python3"
    },
    "language_info": {
      "codemirror_mode": {
        "name": "ipython",
        "version": 3
      },
      "file_extension": ".py",
      "mimetype": "text/x-python",
      "name": "python",
      "nbconvert_exporter": "python",
      "pygments_lexer": "ipython3",
      "version": "3.10.9"
    }
  },
  "nbformat": 4,
  "nbformat_minor": 0
}
